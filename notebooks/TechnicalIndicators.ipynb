{
 "cells": [
  {
   "cell_type": "code",
   "execution_count": null,
   "id": "d917b193",
   "metadata": {},
   "outputs": [
    {
     "name": "stdout",
     "output_type": "stream",
     "text": [
      "\n",
      "🔍 Analyzing AAPL_historical_data.csv...\n"
     ]
    },
    {
     "name": "stderr",
     "output_type": "stream",
     "text": [
      "C:\\Users\\user\\AppData\\Local\\Temp\\ipykernel_16408\\3311877463.py:63: UserWarning: Creating legend with loc=\"best\" can be slow with large amounts of data.\n",
      "  plt.tight_layout()\n",
      "C:\\Users\\user\\AppData\\Local\\Temp\\ipykernel_16408\\3311877463.py:64: UserWarning: Creating legend with loc=\"best\" can be slow with large amounts of data.\n",
      "  plt.savefig(os.path.join(output_folder, f\"{stock_name}_macd.png\"))\n"
     ]
    },
    {
     "name": "stdout",
     "output_type": "stream",
     "text": [
      "\n",
      "🔍 Analyzing AMZN_historical_data.csv...\n",
      "\n",
      "🔍 Analyzing GOOG_historical_data.csv...\n"
     ]
    },
    {
     "name": "stderr",
     "output_type": "stream",
     "text": [
      "C:\\Users\\user\\AppData\\Local\\Temp\\ipykernel_16408\\3311877463.py:64: UserWarning: Creating legend with loc=\"best\" can be slow with large amounts of data.\n",
      "  plt.savefig(os.path.join(output_folder, f\"{stock_name}_macd.png\"))\n"
     ]
    },
    {
     "name": "stdout",
     "output_type": "stream",
     "text": [
      "\n",
      "🔍 Analyzing META_historical_data.csv...\n",
      "\n",
      "🔍 Analyzing MSFT_historical_data.csv...\n",
      "\n",
      "🔍 Analyzing NVDA_historical_data.csv...\n",
      "\n",
      "🔍 Analyzing TSLA_historical_data.csv...\n",
      "\n",
      "📦 PyNance Demo: Fetching TSLA sample data\n",
      "⚠️ PyNance fetch failed: 'module' object is not callable\n"
     ]
    }
   ],
   "source": [
    "import os\n",
    "import pandas as pd\n",
    "import matplotlib.pyplot as plt\n",
    "import talib\n",
    "import pynance as pn\n",
    "\n",
    "# Paths\n",
    "folder_path = '../data/yfinance_data'\n",
    "output_folder = '../outputs/task2_charts'\n",
    "os.makedirs(output_folder, exist_ok=True)\n",
    "\n",
    "# Get CSVs\n",
    "files = [f for f in os.listdir(folder_path) if f.endswith('.csv')]\n",
    "\n",
    "for file in files:\n",
    "    print(f\"\\n🔍 Analyzing {file}...\")\n",
    "    \n",
    "    df = pd.read_csv(os.path.join(folder_path, file), parse_dates=['Date'])\n",
    "    \n",
    "    if 'Date' not in df.columns:\n",
    "        print(f\"⚠️ Skipping {file}: No 'Date' column found.\")\n",
    "        continue\n",
    "\n",
    "    df.set_index('Date', inplace=True)\n",
    "    df.sort_index(inplace=True)\n",
    "    df.dropna(inplace=True)\n",
    "\n",
    "    # technical Indicators\n",
    "    df['SMA_20'] = talib.SMA(df['Close'], timeperiod=20)\n",
    "    df['RSI'] = talib.RSI(df['Close'], timeperiod=14)\n",
    "    df['MACD'], df['MACD_signal'], df['MACD_hist'] = talib.MACD(df['Close'], fastperiod=12, slowperiod=26, signalperiod=9)\n",
    "\n",
    "    stock_name = file.replace('.csv', '')\n",
    "\n",
    "    # Close Price + SMA\n",
    "    plt.figure(figsize=(12, 5))\n",
    "    plt.plot(df['Close'], label='Close Price')\n",
    "    plt.plot(df['SMA_20'], label='SMA 20', linestyle='--')\n",
    "    plt.title(f\"{stock_name} - Close Price with SMA\")\n",
    "    plt.legend()\n",
    "    plt.grid(True)\n",
    "    plt.tight_layout()\n",
    "    plt.savefig(os.path.join(output_folder, f\"{stock_name}_close_sma.png\"))\n",
    "    plt.close()\n",
    "\n",
    "    # RSI\n",
    "    plt.figure(figsize=(10, 3))\n",
    "    plt.plot(df['RSI'], color='purple')\n",
    "    plt.axhline(70, color='red', linestyle='--')\n",
    "    plt.axhline(30, color='green', linestyle='--')\n",
    "    plt.title(f\"{stock_name} - RSI\")\n",
    "    plt.tight_layout()\n",
    "    plt.savefig(os.path.join(output_folder, f\"{stock_name}_rsi.png\"))\n",
    "    plt.close()\n",
    "\n",
    "    # MACD\n",
    "    plt.figure(figsize=(12, 4))\n",
    "    plt.plot(df['MACD'], label='MACD', color='blue')\n",
    "    plt.plot(df['MACD_signal'], label='Signal', color='red')\n",
    "    plt.bar(df.index, df['MACD_hist'], label='Histogram', color='gray', alpha=0.5)\n",
    "    plt.title(f\"{stock_name} - MACD\")\n",
    "    plt.legend()\n",
    "    plt.tight_layout()\n",
    "    plt.savefig(os.path.join(output_folder, f\"{stock_name}_macd.png\"))\n",
    "    plt.close()\n"
   ]
  },
  {
   "cell_type": "code",
   "execution_count": 11,
   "id": "271929b5",
   "metadata": {},
   "outputs": [
    {
     "name": "stdout",
     "output_type": "stream",
     "text": [
      "\n",
      "📦 PyNance Demo: Fetching TSLA sample data\n",
      "⚠️ PyNance fetch failed: module 'pynance' has no attribute 'stocks'\n"
     ]
    }
   ],
   "source": [
    "# PyNance (just once, for demo)\n",
    "print(\"\\n📦 PyNance Demo: Fetching TSLA sample data\")\n",
    "\n",
    "try:\n",
    "    # Access the TSLA stock symbol\n",
    "    tsla = pn.stocks.symbol(\"TSLA\")\n",
    "\n",
    "    # Fetch some example data (PyNance doesn't support start/end filters like yfinance)\n",
    "    print(\"📈 Current Price:\", tsla.price)\n",
    "    print(\"📅 52-week High:\", tsla.year_high)\n",
    "    print(\"📅 52-week Low:\", tsla.year_low)\n",
    "    print(\"📊 Day Open:\", tsla.day_open)\n",
    "    print(\"🔁 Previous Close:\", tsla.prev_close)\n",
    "\n",
    "except Exception as e:\n",
    "    print(f\"⚠️ PyNance fetch failed: {e}\")"
   ]
  }
 ],
 "metadata": {
  "kernelspec": {
   "display_name": "venv",
   "language": "python",
   "name": "python3"
  },
  "language_info": {
   "codemirror_mode": {
    "name": "ipython",
    "version": 3
   },
   "file_extension": ".py",
   "mimetype": "text/x-python",
   "name": "python",
   "nbconvert_exporter": "python",
   "pygments_lexer": "ipython3",
   "version": "3.10.9"
  }
 },
 "nbformat": 4,
 "nbformat_minor": 5
}
